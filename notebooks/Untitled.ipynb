{
 "cells": [
  {
   "cell_type": "code",
   "execution_count": 1,
   "metadata": {},
   "outputs": [],
   "source": [
    "# This is to access the package without it being installed for testing.\n",
    "from pathlib import Path\n",
    "import sys\n",
    "sys.path.append(str(Path.cwd().parent))"
   ]
  },
  {
   "cell_type": "code",
   "execution_count": 2,
   "metadata": {},
   "outputs": [
    {
     "name": "stderr",
     "output_type": "stream",
     "text": [
      "/home/lcoyle/anaconda2/envs/loss_maps/lib/python3.7/site-packages/jpype/_core.py:210: UserWarning: \n",
      "-------------------------------------------------------------------------------\n",
      "Deprecated: convertStrings was not specified when starting the JVM. The default\n",
      "behavior in JPype will be False starting in JPype 0.8. The recommended setting\n",
      "for new code is convertStrings=False.  The legacy value of True was assumed for\n",
      "this session. If you are a user of an application that reported this warning,\n",
      "please file a ticket with the developer.\n",
      "-------------------------------------------------------------------------------\n",
      "\n",
      "  \"\"\")\n"
     ]
    }
   ],
   "source": [
    "from pylossmap.fetcher import BLMDataFetcher\n",
    "from pylossmap.data import BLMData\n",
    "from pylossmap.utils import to_datetime\n",
    "from pylossmap.utils import row_from_time\n",
    "from pylossmap.utils import fill_from_time\n",
    "from pylossmap.utils import beammode_from_time\n",
    "from pylossmap.utils import beammode_to_df\n",
    "from pylossmap.utils import coll_meta\n",
    "from pylossmap.utils import angle_convert\n",
    "from pylossmap.utils import sanitize_t\n",
    "import pandas as pd"
   ]
  },
  {
   "cell_type": "code",
   "execution_count": 3,
   "metadata": {},
   "outputs": [
    {
     "name": "stdout",
     "output_type": "stream",
     "text": [
      "Beam mode INJPHYS\n",
      "10-02 10:14:15 ▶10-02 10:42:22\n"
     ]
    }
   ],
   "source": [
    "LOADER = BLMDataFetcher(mute=False)\n",
    "BLM_DATA = LOADER.from_fill(7247, beam_modes=['INJPHYS'], unique_beam_modes=True)"
   ]
  },
  {
   "cell_type": "code",
   "execution_count": 4,
   "metadata": {},
   "outputs": [
    {
     "data": {
      "text/html": [
       "<div>\n",
       "<style scoped>\n",
       "    .dataframe tbody tr th:only-of-type {\n",
       "        vertical-align: middle;\n",
       "    }\n",
       "\n",
       "    .dataframe tbody tr th {\n",
       "        vertical-align: top;\n",
       "    }\n",
       "\n",
       "    .dataframe thead th {\n",
       "        text-align: right;\n",
       "    }\n",
       "</style>\n",
       "<table border=\"1\" class=\"dataframe\">\n",
       "  <thead>\n",
       "    <tr style=\"text-align: right;\">\n",
       "      <th></th>\n",
       "      <th>LHC.STATS:LHC:INJECTION_SCHEME</th>\n",
       "    </tr>\n",
       "    <tr>\n",
       "      <th>timestamp</th>\n",
       "      <th></th>\n",
       "    </tr>\n",
       "  </thead>\n",
       "  <tbody>\n",
       "    <tr>\n",
       "      <td>2018-10-02 00:07:47.660000086+02:00</td>\n",
       "      <td>25ns_2556b_2544_2215_2332_144bpi_20injV3</td>\n",
       "    </tr>\n",
       "  </tbody>\n",
       "</table>\n",
       "</div>"
      ],
      "text/plain": [
       "                                               LHC.STATS:LHC:INJECTION_SCHEME\n",
       "timestamp                                                                    \n",
       "2018-10-02 00:07:47.660000086+02:00  25ns_2556b_2544_2215_2332_144bpi_20injV3"
      ]
     },
     "execution_count": 4,
     "metadata": {},
     "output_type": "execute_result"
    }
   ],
   "source": [
    "BLM_DATA.get_filling_scheme()"
   ]
  },
  {
   "cell_type": "code",
   "execution_count": 6,
   "metadata": {},
   "outputs": [
    {
     "data": {
      "text/plain": [
       "5280000000.0"
      ]
     },
     "execution_count": 6,
     "metadata": {},
     "output_type": "execute_result"
    }
   ],
   "source": [
    "BLM_DATA.loss_map(datetime='2018-10-02 10:14:15.771000147+02:00',\n",
    "                  background=BLM_DATA.data.mean()).get_intensity(beam=1)"
   ]
  },
  {
   "cell_type": "code",
   "execution_count": 8,
   "metadata": {},
   "outputs": [
    {
     "name": "stderr",
     "output_type": "stream",
     "text": [
      "/home/lcoyle/anaconda2/envs/loss_maps/lib/python3.7/site-packages/pandas/core/indexes/base.py:3071: FutureWarning: Converting timezone-aware DatetimeArray to timezone-naive ndarray with 'datetime64[ns]' dtype. In the future, this will return an ndarray with 'object' dtype where each element is a 'pandas.Timestamp' with the correct 'tz'.\n",
      "\tTo accept the future behavior, pass 'dtype=object'.\n",
      "\tTo keep the old behavior, pass 'dtype=\"datetime64[ns]\"'.\n",
      "  target = np.asarray(target)\n"
     ]
    }
   ],
   "source": [
    "LM = BLM_DATA.loss_map(datetime='2018-10-02 10:14:15.771000147+02:00',\n",
    "                       context={'foo': 'bar'},\n",
    "                       background=BLM_DATA.data.mean())"
   ]
  },
  {
   "cell_type": "code",
   "execution_count": 9,
   "metadata": {},
   "outputs": [
    {
     "data": {
      "text/plain": [
       "LossMap:\n",
       "\tdata:\n",
       "                               data     dcum  type\n",
       "blm                                               \n",
       "BLMQI.01R1.B2I30_MQXA  4.750000e-07     2137  cold\n",
       "BLMQI.01R1.B1E10_MQXA  4.364000e-07     2344  cold\n",
       "BLMQI.01R1.B2I20_MQXA  3.811000e-07     2563  cold\n",
       "BLMQI.01R1.B1E20_MQXA  6.573000e-07     2665  cold\n",
       "BLMQI.02R1.B2I30_MQXB  6.573000e-07     2975  cold\n",
       "...                             ...      ...   ...\n",
       "BLMQI.02L1.B1I30_MQXB  6.546000e-07  2662903  cold\n",
       "BLMQI.01L1.B2E20_MQXA  6.656000e-07  2663223  cold\n",
       "BLMQI.01L1.B1I20_MQXA  5.027000e-07  2663323  cold\n",
       "BLMQI.01L1.B2E10_MQXA  4.198000e-07  2663545  cold\n",
       "BLMQI.01L1.B1I30_MQXA  5.386000e-07  2663738  cold\n",
       "\n",
       "[3595 rows x 3 columns]\n",
       "\tbackground:\n",
       "                               data     dcum  type\n",
       "blm                                               \n",
       "BLMQI.01R1.B2I30_MQXA  4.575610e-07     2137  cold\n",
       "BLMQI.01R1.B1E10_MQXA  4.836142e-07     2344  cold\n",
       "BLMQI.01R1.B2I20_MQXA  4.764439e-07     2563  cold\n",
       "BLMQI.01R1.B1E20_MQXA  6.514627e-07     2665  cold\n",
       "BLMQI.02R1.B2I30_MQXB  6.925199e-07     2975  cold\n",
       "...                             ...      ...   ...\n",
       "BLMQI.02L1.B1I30_MQXB  6.535348e-07  2662903  cold\n",
       "BLMQI.01L1.B2E20_MQXA  6.369104e-07  2663223  cold\n",
       "BLMQI.01L1.B1I20_MQXA  4.690481e-07  2663323  cold\n",
       "BLMQI.01L1.B2E10_MQXA  3.975107e-07  2663545  cold\n",
       "BLMQI.01L1.B1I30_MQXA  4.988362e-07  2663738  cold\n",
       "\n",
       "[3595 rows x 3 columns]"
      ]
     },
     "execution_count": 9,
     "metadata": {},
     "output_type": "execute_result"
    }
   ],
   "source": [
    "LM"
   ]
  },
  {
   "cell_type": "code",
   "execution_count": 74,
   "metadata": {},
   "outputs": [
    {
     "data": {
      "text/plain": [
       "(16, 3)"
      ]
     },
     "execution_count": 74,
     "metadata": {},
     "output_type": "execute_result"
    }
   ],
   "source": [
    "LM.TCTP().data.shape"
   ]
  },
  {
   "cell_type": "code",
   "execution_count": 7,
   "metadata": {},
   "outputs": [
    {
     "name": "stdout",
     "output_type": "stream",
     "text": [
      "Beam mode INJPHYS\n",
      "10-02 10:14:15 ▶10-02 10:42:22\n"
     ]
    }
   ],
   "source": [
    "LOADER = BLMDataFetcher(mute=False)\n",
    "BLM_DATA = LOADER.from_fill(7247, beam_modes=['INJPHYS'], unique_beam_modes=True)\n"
   ]
  },
  {
   "cell_type": "code",
   "execution_count": 41,
   "metadata": {},
   "outputs": [],
   "source": [
    "out  = BLM_DATA.get_beam_meta('energy', beam=1)"
   ]
  },
  {
   "cell_type": "code",
   "execution_count": 42,
   "metadata": {
    "scrolled": true
   },
   "outputs": [
    {
     "data": {
      "text/html": [
       "<div>\n",
       "<style scoped>\n",
       "    .dataframe tbody tr th:only-of-type {\n",
       "        vertical-align: middle;\n",
       "    }\n",
       "\n",
       "    .dataframe tbody tr th {\n",
       "        vertical-align: top;\n",
       "    }\n",
       "\n",
       "    .dataframe thead th {\n",
       "        text-align: right;\n",
       "    }\n",
       "</style>\n",
       "<table border=\"1\" class=\"dataframe\">\n",
       "  <thead>\n",
       "    <tr style=\"text-align: right;\">\n",
       "      <th></th>\n",
       "      <th>LHC.STATS:ENERGY</th>\n",
       "    </tr>\n",
       "    <tr>\n",
       "      <th>timestamp</th>\n",
       "      <th></th>\n",
       "    </tr>\n",
       "  </thead>\n",
       "  <tbody>\n",
       "  </tbody>\n",
       "</table>\n",
       "</div>"
      ],
      "text/plain": [
       "Empty DataFrame\n",
       "Columns: [LHC.STATS:ENERGY]\n",
       "Index: []"
      ]
     },
     "execution_count": 42,
     "metadata": {},
     "output_type": "execute_result"
    }
   ],
   "source": [
    "out"
   ]
  },
  {
   "cell_type": "code",
   "execution_count": 7,
   "metadata": {},
   "outputs": [
    {
     "data": {
      "text/html": [
       "<div>\n",
       "<style scoped>\n",
       "    .dataframe tbody tr th:only-of-type {\n",
       "        vertical-align: middle;\n",
       "    }\n",
       "\n",
       "    .dataframe tbody tr th {\n",
       "        vertical-align: top;\n",
       "    }\n",
       "\n",
       "    .dataframe thead th {\n",
       "        text-align: right;\n",
       "    }\n",
       "</style>\n",
       "<table border=\"1\" class=\"dataframe\">\n",
       "  <thead>\n",
       "    <tr style=\"text-align: right;\">\n",
       "      <th></th>\n",
       "      <th>INJPHYS</th>\n",
       "    </tr>\n",
       "  </thead>\n",
       "  <tbody>\n",
       "    <tr>\n",
       "      <td>startTime</td>\n",
       "      <td>2018-10-02 10:14:15.742000103+02:00</td>\n",
       "    </tr>\n",
       "    <tr>\n",
       "      <td>endTime</td>\n",
       "      <td>2018-10-02 10:42:22.806000233+02:00</td>\n",
       "    </tr>\n",
       "  </tbody>\n",
       "</table>\n",
       "</div>"
      ],
      "text/plain": [
       "                                      INJPHYS\n",
       "startTime 2018-10-02 10:14:15.742000103+02:00\n",
       "endTime   2018-10-02 10:42:22.806000233+02:00"
      ]
     },
     "execution_count": 7,
     "metadata": {},
     "output_type": "execute_result"
    }
   ],
   "source": [
    "BLM_DATA.context"
   ]
  },
  {
   "cell_type": "code",
   "execution_count": 12,
   "metadata": {},
   "outputs": [
    {
     "data": {
      "text/plain": [
       "[(('INJPHYS',\n",
       "   Timestamp('2018-10-02 10:14:24.736000061+0200', tz='Europe/Zurich')),\n",
       "  ['BLMTI.06L3.B1I10_TCP.6L3.B1',\n",
       "   'BLMTI.06L7.B1E10_TCP.C6L7.B1',\n",
       "   'BLMTI.06L7.B1E10_TCP.B6L7.B1']),\n",
       " (('INJPHYS',\n",
       "   Timestamp('2018-10-02 10:21:31.855000019+0200', tz='Europe/Zurich')),\n",
       "  ['BLMTI.06L7.B1E10_TCP.D6L7.B1']),\n",
       " (('INJPHYS',\n",
       "   Timestamp('2018-10-02 10:40:34.857000113+0200', tz='Europe/Zurich')),\n",
       "  ['BLMTI.06R3.B2E10_TCP.6R3.B2']),\n",
       " (('INJPHYS',\n",
       "   Timestamp('2018-10-02 10:40:03.769000053+0200', tz='Europe/Zurich')),\n",
       "  ['BLMTI.06R7.B2I10_TCP.B6R7.B2',\n",
       "   'BLMTI.06R7.B2I10_TCP.C6R7.B2',\n",
       "   'BLMTI.06R7.B2I10_TCP.D6R7.B2'])]"
      ]
     },
     "execution_count": 12,
     "metadata": {},
     "output_type": "execute_result"
    }
   ],
   "source": [
    "list(BLM_DATA.iter_max())"
   ]
  },
  {
   "cell_type": "code",
   "execution_count": 4,
   "metadata": {},
   "outputs": [
    {
     "data": {
      "text/plain": [
       "True"
      ]
     },
     "execution_count": 4,
     "metadata": {},
     "output_type": "execute_result"
    }
   ],
   "source": [
    "sanitize_t(1574438246) == to_datetime(1574438246)"
   ]
  },
  {
   "cell_type": "code",
   "execution_count": 3,
   "metadata": {},
   "outputs": [
    {
     "data": {
      "text/plain": [
       "Timestamp('2019-11-22 16:57:26+0100', tz='Europe/Zurich')"
      ]
     },
     "execution_count": 3,
     "metadata": {},
     "output_type": "execute_result"
    }
   ],
   "source": [
    "sanitize_t('2019-11-22 16:57:26+0100')"
   ]
  },
  {
   "cell_type": "code",
   "execution_count": 38,
   "metadata": {},
   "outputs": [
    {
     "data": {
      "text/plain": [
       "True"
      ]
     },
     "execution_count": 38,
     "metadata": {},
     "output_type": "execute_result"
    }
   ],
   "source": [
    "angle_convert(np.pi/6) == 1/3"
   ]
  },
  {
   "cell_type": "code",
   "execution_count": 40,
   "metadata": {},
   "outputs": [
    {
     "data": {
      "text/plain": [
       "2.0"
      ]
     },
     "execution_count": 40,
     "metadata": {},
     "output_type": "execute_result"
    }
   ],
   "source": [
    "np.pi // (np.pi/2)"
   ]
  },
  {
   "cell_type": "code",
   "execution_count": 42,
   "metadata": {},
   "outputs": [
    {
     "data": {
      "text/plain": [
       "-3.141592653589793"
      ]
     },
     "execution_count": 42,
     "metadata": {},
     "output_type": "execute_result"
    }
   ],
   "source": [
    "np.pi/2 - (2*np.pi - np.pi/2)"
   ]
  },
  {
   "cell_type": "code",
   "execution_count": 35,
   "metadata": {},
   "outputs": [
    {
     "data": {
      "text/plain": [
       "0.0"
      ]
     },
     "execution_count": 35,
     "metadata": {},
     "output_type": "execute_result"
    }
   ],
   "source": [
    "(np.pi % np.pi/2)"
   ]
  },
  {
   "cell_type": "code",
   "execution_count": 18,
   "metadata": {},
   "outputs": [
    {
     "data": {
      "text/plain": [
       "3.141592653589793"
      ]
     },
     "execution_count": 18,
     "metadata": {},
     "output_type": "execute_result"
    }
   ],
   "source": [
    "import numpy as np\n",
    "np.pi"
   ]
  },
  {
   "cell_type": "code",
   "execution_count": 14,
   "metadata": {},
   "outputs": [
    {
     "data": {
      "text/plain": [
       "(49, 2)"
      ]
     },
     "execution_count": 14,
     "metadata": {},
     "output_type": "execute_result"
    }
   ],
   "source": [
    "coll_meta(augment_b2=False).shape"
   ]
  },
  {
   "cell_type": "code",
   "execution_count": 7,
   "metadata": {},
   "outputs": [
    {
     "data": {
      "text/html": [
       "<div>\n",
       "<style scoped>\n",
       "    .dataframe tbody tr th:only-of-type {\n",
       "        vertical-align: middle;\n",
       "    }\n",
       "\n",
       "    .dataframe tbody tr th {\n",
       "        vertical-align: top;\n",
       "    }\n",
       "\n",
       "    .dataframe thead th {\n",
       "        text-align: right;\n",
       "    }\n",
       "</style>\n",
       "<table border=\"1\" class=\"dataframe\">\n",
       "  <thead>\n",
       "    <tr style=\"text-align: right;\">\n",
       "      <th></th>\n",
       "      <th>SETUP</th>\n",
       "    </tr>\n",
       "  </thead>\n",
       "  <tbody>\n",
       "    <tr>\n",
       "      <td>startTime</td>\n",
       "      <td>2018-05-31 22:37:18.521999836+02:00</td>\n",
       "    </tr>\n",
       "    <tr>\n",
       "      <td>endTime</td>\n",
       "      <td>2018-05-31 22:55:45.673999786+02:00</td>\n",
       "    </tr>\n",
       "  </tbody>\n",
       "</table>\n",
       "</div>"
      ],
      "text/plain": [
       "                                        SETUP\n",
       "startTime 2018-05-31 22:37:18.521999836+02:00\n",
       "endTime   2018-05-31 22:55:45.673999786+02:00"
      ]
     },
     "execution_count": 7,
     "metadata": {},
     "output_type": "execute_result"
    }
   ],
   "source": [
    "beammode_to_df([{'mode': 'SETUP',\n",
    "   'startTime': 1527799038.5219998,\n",
    "   'endTime': 1527800145.6739998}])"
   ]
  },
  {
   "cell_type": "code",
   "execution_count": null,
   "metadata": {},
   "outputs": [],
   "source": [
    "pd.DataFrame([])"
   ]
  },
  {
   "cell_type": "code",
   "execution_count": 3,
   "metadata": {},
   "outputs": [
    {
     "data": {
      "text/plain": [
       "{'mode': 'INJPROT', 'startTime': 1527800145.676, 'endTime': 1527807062.758}"
      ]
     },
     "execution_count": 3,
     "metadata": {},
     "output_type": "execute_result"
    }
   ],
   "source": [
    "beammode_from_time('2018-06-01 00:00:00')"
   ]
  },
  {
   "cell_type": "code",
   "execution_count": 3,
   "metadata": {},
   "outputs": [
    {
     "data": {
      "text/plain": [
       "{'fillNumber': 6748,\n",
       " 'startTime': 1527797940.62,\n",
       " 'endTime': 1527812753.788,\n",
       " 'beamModes': [{'mode': 'SETUP',\n",
       "   'startTime': 1527799038.5219998,\n",
       "   'endTime': 1527800145.6739998},\n",
       "  {'mode': 'INJPROT', 'startTime': 1527800145.676, 'endTime': 1527807062.758},\n",
       "  {'mode': 'INJPHYS',\n",
       "   'startTime': 1527807062.7600002,\n",
       "   'endTime': 1527809628.986},\n",
       "  {'mode': 'NOBEAM', 'startTime': 1527809628.988, 'endTime': 1527812751.376},\n",
       "  {'mode': 'CYCLING',\n",
       "   'startTime': 1527812751.3779998,\n",
       "   'endTime': 1527812753.788}]}"
      ]
     },
     "execution_count": 3,
     "metadata": {},
     "output_type": "execute_result"
    }
   ],
   "source": [
    "fill_from_time('2018-06-01 00:00:00')"
   ]
  },
  {
   "cell_type": "code",
   "execution_count": 5,
   "metadata": {},
   "outputs": [
    {
     "data": {
      "text/plain": [
       "Timestamp('2019-11-22 16:50:53+0100', tz='Europe/Zurich')"
      ]
     },
     "execution_count": 5,
     "metadata": {},
     "output_type": "execute_result"
    }
   ],
   "source": [
    "to_datetime(1574437853)"
   ]
  },
  {
   "cell_type": "code",
   "execution_count": 10,
   "metadata": {},
   "outputs": [],
   "source": [
    "import time"
   ]
  },
  {
   "cell_type": "code",
   "execution_count": 85,
   "metadata": {},
   "outputs": [
    {
     "data": {
      "text/plain": [
       "1574438246.9795763"
      ]
     },
     "execution_count": 85,
     "metadata": {},
     "output_type": "execute_result"
    }
   ],
   "source": [
    "time.time()"
   ]
  },
  {
   "cell_type": "code",
   "execution_count": 86,
   "metadata": {},
   "outputs": [
    {
     "data": {
      "text/plain": [
       "Timestamp('2019-11-22 16:57:26+0100', tz='Europe/Zurich')"
      ]
     },
     "execution_count": 86,
     "metadata": {},
     "output_type": "execute_result"
    }
   ],
   "source": [
    "to_datetime(1574438246)"
   ]
  },
  {
   "cell_type": "code",
   "execution_count": 84,
   "metadata": {},
   "outputs": [
    {
     "data": {
      "text/plain": [
       "Timedelta('-1 days +23:59:59.723429')"
      ]
     },
     "execution_count": 84,
     "metadata": {},
     "output_type": "execute_result"
    }
   ],
   "source": [
    "to_datetime(round(time.time())) - pd.to_datetime('now', utc=True).tz_convert('Europe/Zurich')"
   ]
  },
  {
   "cell_type": "code",
   "execution_count": 25,
   "metadata": {},
   "outputs": [
    {
     "data": {
      "text/plain": [
       "Timestamp('2019-11-22 15:53:47.259145+0100', tz='Europe/Zurich')"
      ]
     },
     "execution_count": 25,
     "metadata": {},
     "output_type": "execute_result"
    }
   ],
   "source": [
    "pd.to_datetime('now').tz_localize('Europe/Zurich')"
   ]
  },
  {
   "cell_type": "code",
   "execution_count": 9,
   "metadata": {},
   "outputs": [
    {
     "data": {
      "text/plain": [
       "Timestamp('2019-11-22 15:52:01.621766')"
      ]
     },
     "execution_count": 9,
     "metadata": {},
     "output_type": "execute_result"
    }
   ],
   "source": [
    "pd.to_datetime('now')"
   ]
  }
 ],
 "metadata": {
  "kernelspec": {
   "display_name": "Python 3",
   "language": "python",
   "name": "python3"
  },
  "language_info": {
   "codemirror_mode": {
    "name": "ipython",
    "version": 3
   },
   "file_extension": ".py",
   "mimetype": "text/x-python",
   "name": "python",
   "nbconvert_exporter": "python",
   "pygments_lexer": "ipython3",
   "version": "3.7.4"
  }
 },
 "nbformat": 4,
 "nbformat_minor": 2
}
